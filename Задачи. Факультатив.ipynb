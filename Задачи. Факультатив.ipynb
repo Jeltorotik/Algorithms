{
 "cells": [
  {
   "cell_type": "markdown",
   "metadata": {},
   "source": [
    "# Задачки с факультатива\n",
    "\n",
    "Этот файл можно скачать себе и выполнять задания прямо здесь. Все непонятные вопросы можно разобрать, написав мне в телеграм или на занятии. Файл с ответами для проверки будет позже.\n",
    "\n",
    "В некоторых задач формат входных данных может отличаться от того, что приводится в задаче. Главное, чтобы вы поняли алгоритм или конкретный метод.\n",
    "\n",
    "Я буду закидывать сюда задачи разной степени паршивости, так что иногда можно чекать файл."
   ]
  },
  {
   "cell_type": "markdown",
   "metadata": {},
   "source": [
    "1.\tВвести натуральное число N > 1 и проверить, является ли оно степенью натурального числа (>1). Вывести YES/NO (True/False) соответственно."
   ]
  },
  {
   "cell_type": "code",
   "execution_count": null,
   "metadata": {},
   "outputs": [],
   "source": [
    "def task2(N):\n",
    "    # Решение\n",
    "    pass\n",
    "\n",
    "\n",
    "print(task1(1024)) #True\n",
    "print(task1(pow(1234, 5))) #True\n",
    "print(task1(pow(1234*1233))) #False"
   ]
  },
  {
   "cell_type": "markdown",
   "metadata": {},
   "source": [
    "2.\tДля заданной цифры k найти такое минимальное целое неотрицательное число, оканчивающееся на k, что, умножая его на k, мы получим новое число, полученное из предыдущего вычеркиванием цифры k на конце и приписыванием ее в начале. Строки/кортежи и последователости не использовать. Сразу скажу, что в лоб ее не сделать. Тут нужно несколько исхитриться. Попробуйте выписать и вывести общую формулу. На ее основе уже написать свое решение. "
   ]
  },
  {
   "cell_type": "code",
   "execution_count": null,
   "metadata": {},
   "outputs": [],
   "source": [
    "def task2(k):\n",
    "    # Решение\n",
    "    pass\n",
    "\n",
    "\n",
    "print(task2(4)) #102564\n",
    "print(task2(9)) #10112359550561797752808988764044943820224719"
   ]
  },
  {
   "cell_type": "markdown",
   "metadata": {},
   "source": [
    "3.\tНаписать функцию maxfun(), которая принимает переменное число параметров – числовую последовательность S, функцию F1 и возможно, ещё несколько других функций. Вывести функцию, сумма значений которой на всех элементах S наибольшая. Если таких функций больше одной, то вывести с наибольшим номером. Суть в том, чтобы пройтись по всем элементам массива всеми переданными функциями и сравнить суммы."
   ]
  },
  {
   "cell_type": "code",
   "execution_count": null,
   "metadata": {},
   "outputs": [],
   "source": [
    "def task3(seq, f1, *funcs):\n",
    "    # Решение\n",
    "    pass\n",
    "\n",
    "\n",
    "from math import*\n",
    "maxfun = task3(range(-2, 10), sin, exp)\n",
    "print(maxfun, maxfun(1)) # <built-in function exp> 2.718281828459045\n"
   ]
  },
  {
   "cell_type": "markdown",
   "metadata": {},
   "source": [
    "4.\tВвести целые N и M, вывести последовательность цифр в виде спирально заполненной таблицы (N строк, M столбцов)."
   ]
  },
  {
   "cell_type": "code",
   "execution_count": null,
   "metadata": {},
   "outputs": [],
   "source": [
    "def task(N, M):\n",
    "    # Решение\n",
    "    pass\n",
    "\n",
    "\n",
    "task4(4, 5)\n",
    "'''\n",
    " 0 1 2 3 \n",
    " 3 4 5 4 \n",
    " 2 9 6 5 \n",
    " 1 8 7 6 \n",
    " 0 9 8 7 \n",
    "'''"
   ]
  },
  {
   "cell_type": "markdown",
   "metadata": {},
   "source": [
    "5.\tВвести строку, содержащую произвольные символы (кроме символа ‘@’). Затем ввести строку-щаблон, которая содержит любые символы. Проверить содержится ли в исходной строке подстрока, совпадающая со строкой-шаблонов, где все на месте всех ‘@’ стоит ровно один любой символ. Вывести наименьшую позицию в строке, с которой начинается подстрока или -1, если ее там нет. Регулярки использовать нельзя. Обратите внимание на то, что программа должна проходить все заданные тесты!"
   ]
  },
  {
   "cell_type": "code",
   "execution_count": null,
   "metadata": {},
   "outputs": [],
   "source": [
    "def task5(line, pattern):\n",
    "    # Решение\n",
    "    pass\n",
    "\n",
    "\n",
    "line = 'lorem ipsum, quia dolor sit, amet, consectetur'\n",
    "pattern = 'dolor @it,@@met'\n",
    "task5(line, pattern) #18\n",
    "\n",
    "line = 'qweqwe wertsaq ertsqa wertgad wertgard'\n",
    "pattern = 'wer@ga'\n",
    "task5(line, pattern) #22\n",
    "\n",
    "line = 'sadfqwef qwef qwef'\n",
    "pattern = '@'\n",
    "task5(line, pattern) #0\n",
    "\n",
    "line = 'asdf tr4gtrghadfv eterfg asd asdfasd asdfasde'\n",
    "pattern = '@had@'\n",
    "task5(line, pattern) #11\n",
    "\n",
    "line = 'Hello Darkness my old friend, I come to talk to u again'\n",
    "pattern = '@@ain'\n",
    "task5(line, pattern) #52\n"
   ]
  },
  {
   "cell_type": "markdown",
   "metadata": {},
   "source": [
    "6.\tНаписать функцию,  которая возвращает треульник Паскаля из N строк. Вывод можно реализовать как угодно."
   ]
  },
  {
   "cell_type": "code",
   "execution_count": null,
   "metadata": {},
   "outputs": [],
   "source": [
    "def task6(N):\n",
    "    # Решение\n",
    "    pass\n"
   ]
  },
  {
   "cell_type": "markdown",
   "metadata": {},
   "source": [
    "7.\tДано число 1 ≤ n, необходимо найти последнюю цифру n-го числа Фибоначчи."
   ]
  },
  {
   "cell_type": "code",
   "execution_count": null,
   "metadata": {},
   "outputs": [],
   "source": [
    "def task7(n):\n",
    "    # Решение\n",
    "    pass\n",
    "\n",
    "\n",
    "print(task7(10)) #5\n",
    "print(task7(777))#2\n",
    "print(task7(99999998))#9"
   ]
  },
  {
   "cell_type": "markdown",
   "metadata": {},
   "source": [
    "8.\tРеализуйте алгоритм приближенного бинарного поиска. Если число в результате бинарного поиска не удалось найти, то необходимо вывести ближайшее к нему по модулю число. Если таких несколько, то вывести минимальное.\n",
    "\n",
    "На вход в первой строке подаются числа N и K. Во второй строке числа первого массива размерности N, в третьей - второго массива размерности K. Для каждого из K чисел вывести число из первого массива, наиболее близкое к нему. Если такх несколько, то вывести наименьшее."
   ]
  },
  {
   "cell_type": "code",
   "execution_count": null,
   "metadata": {},
   "outputs": [],
   "source": [
    "def task8(A, K):\n",
    "    # Решение\n",
    "    pass\n",
    "\n",
    "\n",
    "A = [1,3,7,9]\n",
    "K = [2,4,8,1,6,1,3,12]\n",
    "print(task8(A, K)) #[1, 3, 7, 1, 7, 1, 3, 9]"
   ]
  },
  {
   "cell_type": "markdown",
   "metadata": {},
   "source": [
    "9.\tДаны 2 числа. Вывести их наибольший общий делитель. (Смотри алгоритм Евклида)"
   ]
  },
  {
   "cell_type": "code",
   "execution_count": null,
   "metadata": {},
   "outputs": [],
   "source": [
    "def task9(a, b):\n",
    "    # Решение\n",
    "    pass\n"
   ]
  },
  {
   "cell_type": "markdown",
   "metadata": {},
   "source": [
    "10.\tРеализовать функцию-генератор чисел Фибоначи. (Результат функции объект-генератор)"
   ]
  },
  {
   "cell_type": "code",
   "execution_count": null,
   "metadata": {},
   "outputs": [],
   "source": [
    "# Решение"
   ]
  },
  {
   "cell_type": "markdown",
   "metadata": {},
   "source": [
    "11.\tНа вход функции подается параметр n. Реализовать функцию, которая возвращает другую функцию, которая в свою очередь возводит какое-то число в степень. \n",
    "\n",
    "** Все то же самое, но теперь необходимо реализовать класс, генерирующий классы возведения в конкретную степень. В результате возвращается объект класса, в котором реализован метод pow(A), который возводит A в степень n.\n"
   ]
  },
  {
   "cell_type": "code",
   "execution_count": null,
   "metadata": {},
   "outputs": [],
   "source": [
    "# Решение"
   ]
  },
  {
   "cell_type": "markdown",
   "metadata": {},
   "source": [
    "12. Вам дана некоторая \"хорошая\" функция F. Под ней мы будем понимать непрерывную функцию, все производные которой тоже непрерывны. Необходимо построить сравнительный график функции F и ее разложения в ряд Тейлора (для n-ого числа членов в окрестности x0 = 0). "
   ]
  },
  {
   "cell_type": "code",
   "execution_count": null,
   "metadata": {},
   "outputs": [],
   "source": [
    "# Решение"
   ]
  },
  {
   "cell_type": "markdown",
   "metadata": {},
   "source": [
    "13. Вам дан некий вложенный список. Его необходимо, так сказать, сгладить - превратить в невложенный список, который содержал бы в себе все элемент оригинально списка. Вместо списка может быть любой объект-коллекция (кортеж, список, словарь).\n",
    "\n",
    "*Вместо списка вы должны вернуть генератор, который бы проделывал всю ту же работу.\n"
   ]
  },
  {
   "cell_type": "code",
   "execution_count": null,
   "metadata": {},
   "outputs": [],
   "source": [
    "items = [1, 2, [3, 4, [5, 6], 7], 8, ('A', {'B', 'C'})]\n",
    "\n",
    "print(task13(items)) # [1, 2, 3, 4, 5, 6, 7, 8, A, B, C]\n",
    "\n",
    "# Задание со *\n",
    "flatten = task13(items)\n",
    "print(flatten) #<generator object>\n",
    "for x in flatten:\n",
    "    print(x, end=' ') # 1 2 3 4 5 6 7 8 A C B "
   ]
  },
  {
   "cell_type": "code",
   "execution_count": null,
   "metadata": {},
   "outputs": [],
   "source": []
  }
 ],
 "metadata": {
  "kernelspec": {
   "display_name": "Python 3",
   "language": "python",
   "name": "python3"
  },
  "language_info": {
   "codemirror_mode": {
    "name": "ipython",
    "version": 3
   },
   "file_extension": ".py",
   "mimetype": "text/x-python",
   "name": "python",
   "nbconvert_exporter": "python",
   "pygments_lexer": "ipython3",
   "version": "3.7.3"
  }
 },
 "nbformat": 4,
 "nbformat_minor": 2
}
