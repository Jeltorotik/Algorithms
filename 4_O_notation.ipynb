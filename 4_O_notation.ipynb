{
 "cells": [
  {
   "cell_type": "markdown",
   "metadata": {},
   "source": [
    "# O-нотация"
   ]
  },
  {
   "cell_type": "markdown",
   "metadata": {},
   "source": [
    "1) Мотивация\n",
    "\n",
    "2) Асимптотика\n",
    "\n",
    "3) Скорость процессора"
   ]
  },
  {
   "cell_type": "markdown",
   "metadata": {},
   "source": [
    "## 1 Мотивация\n",
    "**Зачем это нужно?** ![fsdf](https://emojipedia-us.s3.dualstack.us-west-1.amazonaws.com/thumbs/72/apple/232/thinking-face_1f914.png)\n",
    "Казалось бы, что для оценки времени работы можно просто физически измерять время, которое программа работает на разных входных данных. Здесь есть достаточное количество минусов:\n",
    "\n",
    "на разных компьютерах время работы будет разным;\n",
    "\n",
    "чтобы измерить время, придется запустить сам алгоритм, но иногда приходится оценивать алгоритмы, требующие часы или даже дни работы;\n",
    "\n",
    "время будет учитывать какие-то вспомогательные операции, которые на самом деле в текущей оценке не нужны\n",
    "\n",
    "Зачастую основной задачей программиста становится оптимизировать алгоритм, выполнение которого займёт тысячи лет, до какого-нибудь адекватного времени работы. Поэтому хотелось бы уметь предсказывать, сколько времени займёт выполнение алгоритма ещё до того, как мы его запустим.\n",
    "\n"
   ]
  },
  {
   "cell_type": "markdown",
   "metadata": {},
   "source": [
    "Даже неловко объяснять, но всё-таки - **количество строк кода не имеет никакого отношения к скорости работы программы**"
   ]
  },
  {
   "cell_type": "code",
   "execution_count": null,
   "metadata": {},
   "outputs": [],
   "source": [
    "while True:\n",
    "    pass\n",
    "#Код, состоящий из двух строк кода, но работающий бесконечно"
   ]
  },
  {
   "cell_type": "markdown",
   "metadata": {},
   "source": [
    "Делаем вывод: \n",
    "**Скорость работы программы зависит от количества сделанных ей операций.** \n",
    "\n",
    "А как нам посчитать количество операций? Для это есть такое понятие, как **Асимпотитика** или же **O-нотация**."
   ]
  },
  {
   "cell_type": "markdown",
   "metadata": {},
   "source": [
    "## 2 Асимптотика"
   ]
  },
  {
   "cell_type": "markdown",
   "metadata": {},
   "source": [
    "Пусть  $f(N)$  - это какая-то функция. Говорят, что алгоритм работает за  $O(f(N))$ , если существует число  $C$ , такое что алгоритм работает не более чем за $C*f(N)$  операций.\n",
    "\n",
    "\n",
    "Например, в таких обозначениях можно сказать, что\n",
    "\n",
    "Сортировка пузырьком работает за  $O(N^2)$\n",
    "\n",
    "Сортировка выбором работает за  $O(N^2)$\n",
    "\n",
    "Сортировка вставками работает за  $O(N^2)$ \n",
    "\n",
    "Сортировка подсчетом работает за  $O(N+M)$\n",
    "\n",
    "Именно поэтому их называют квадратичными. А сортировка подсчётом работает **за линию** - то есть за $O(N)$. Не важно, что за две линии: $O(2N)$ - тоже ялвяется линейным временем работы. Это обозначение этим и удобно, что оно не зависит от умножения на константу или прибавления константы. Если алгоритм работает за $O(N^2)$, то это может значить, что он работает за $N^2$, за $N^2+3$, за $N(N-1)*2$ или даже за $1000*N^2+1$ действие. Главное, что функция ведет себя как $N^2$, то есть при увеличении $N$ (в данном случае это длина массива) он увеличивается как некоторая квадратичная функция. Например, если увеличить $N$ в 10 раз, время работы программы увеличится приблизительно в 100 раз.\n",
    "\n",
    "Быстрая сортировка, например, работает за $O(N\\log N)$\n",
    "\n",
    "Если же скорость алгоритма не зависит от вводимых данных, (т.е. не зависит от $N$), то говорят, что алгоритм работает за $O(1)$. - это наименьшая возможная асимптотика. \n",
    "\n",
    "(btw, очевидно $O(1)$ не значит, что алгоритм работает за одну операцию, он может и работать и за линию и даже за куб. Важно, что время выполнения работы постоянно, и не меняется в зависимости от размера входных данных)\n",
    "\n",
    "(Если что, то в программировании под $\\log N$ принято считать двоичный логарифм т.е. $\\log_2 N$)"
   ]
  },
  {
   "cell_type": "markdown",
   "metadata": {},
   "source": [
    "А теперь самое интересное!\n",
    "Давайте посмотрим как это выглядит на практике, и не останется людей, которые не понимают **зачем же нам это надо**:"
   ]
  },
  {
   "cell_type": "code",
   "execution_count": 11,
   "metadata": {},
   "outputs": [],
   "source": [
    "import matplotlib.pyplot as plt\n",
    "from time import time\n",
    "from random import randint\n",
    "import math"
   ]
  },
  {
   "cell_type": "markdown",
   "metadata": {},
   "source": [
    "Функция, которая строит график работы алгоритма f"
   ]
  },
  {
   "cell_type": "code",
   "execution_count": 18,
   "metadata": {},
   "outputs": [],
   "source": [
    "def run_and_plot(f, generate_test, start, end, step):\n",
    "    timings = []\n",
    "    for i in range(start, end, step):\n",
    "        args = generate_test(i)\n",
    "        startt = time()\n",
    "        f(args)\n",
    "        endt = time()\n",
    "        timings.append(endt - startt)\n",
    "    plt.plot([i for i in range(start, end, step)], timings)"
   ]
  },
  {
   "cell_type": "code",
   "execution_count": 19,
   "metadata": {},
   "outputs": [],
   "source": [
    "def foo(n):\n",
    "    for i in range(n):\n",
    "        2 + 2"
   ]
  },
  {
   "cell_type": "code",
   "execution_count": 20,
   "metadata": {
    "scrolled": false
   },
   "outputs": [
    {
     "data": {
      "image/png": "[encoded data removed]",
      "text/plain": [
       "<Figure size 432x288 with 1 Axes>"
      ]
     },
     "metadata": {
      "needs_background": "light"
     },
     "output_type": "display_data"
    }
   ],
   "source": [
    "run_and_plot(foo, lambda n: n, 1, 100000, 50)"
   ]
  },
  {
   "cell_type": "markdown",
   "metadata": {},
   "source": [
    "Этот график немного \"флуктуирует\", однако с лёгкостью можно увидеть, что он работает за **линейное время**"
   ]
  },
  {
   "cell_type": "code",
   "execution_count": 21,
   "metadata": {},
   "outputs": [],
   "source": [
    "def foo2(n):\n",
    "    result = 1\n",
    "    for i in range(n):\n",
    "        result = result * 3\n",
    "    return result"
   ]
  },
  {
   "cell_type": "code",
   "execution_count": 22,
   "metadata": {
    "scrolled": true
   },
   "outputs": [
    {
     "data": {
      "image/png": "[encoded data removed]",
      "text/plain": [
       "<Figure size 432x288 with 1 Axes>"
      ]
     },
     "metadata": {
      "needs_background": "light"
     },
     "output_type": "display_data"
    }
   ],
   "source": [
    "run_and_plot(foo2, lambda n: n, 1, 100000, 500)"
   ]
  },
  {
   "cell_type": "markdown",
   "metadata": {},
   "source": [
    "Казалось бы, этот алгоритм тоже должен работать за линию. Но это не так. График времени работы выглядит совсем не линейным. Проблема в том, что числа, которые алгоритм умножает на 3 сильно растут, и умножать их становится всё сложнее и сложнее. Мы обычно будем предполагать, что арифметические операции выполняются за постоянное время, но надо понимать, что это предположение реалистично, если вы не ожидаете огромных чисел в своём алгоритме."
   ]
  },
  {
   "cell_type": "markdown",
   "metadata": {},
   "source": [
    "А давайте сравним сортировки!"
   ]
  },
  {
   "cell_type": "code",
   "execution_count": 26,
   "metadata": {},
   "outputs": [],
   "source": [
    "# Пузырёк - O(n^2)\n",
    "def buble_sorting (array):\n",
    "    n = len(array)\n",
    "    opt = 1\n",
    "    while opt < n:\n",
    "        for i in range(n-opt):\n",
    "            if array[i] > array[i+1]:\n",
    "                array[i], array[i+1] = array[i+1], array[i]\n",
    "        opt+=1\n",
    "    return(array)\n",
    "\n",
    " \n",
    "#QuickSort - O(nlogn)\n",
    "from random import randint\n",
    "\n",
    "def myquicks(nums):\n",
    "    def divide(left, right):\n",
    "        pivot_index = randint(left, right)\n",
    "        pivot = nums[pivot_index]\n",
    "        nums[right], nums[pivot_index] = nums[pivot_index], nums[right]\n",
    "        leftmark = left\n",
    "        rightmark = right - 1\n",
    "        \n",
    "        while True:\n",
    "            while leftmark <= rightmark and nums[leftmark] <= pivot:\n",
    "                leftmark += 1\n",
    "            while rightmark >= leftmark and nums[rightmark] > pivot:\n",
    "                rightmark -= 1\n",
    "            if leftmark > rightmark:\n",
    "                break\n",
    "            else:\n",
    "                nums[leftmark], nums[rightmark] = nums[rightmark], nums[leftmark]\n",
    "                \n",
    "        nums[leftmark], nums[right] = nums[right], nums[leftmark]\n",
    "        while rightmark >= 0 and nums[rightmark] == pivot:\n",
    "            rightmark -= 1\n",
    "        return rightmark, leftmark        \n",
    "\n",
    "    def quicksort(left, right):\n",
    "        if left < right:\n",
    "            leftmark, rightmark = divide(left, right)\n",
    "            quicksort(left, leftmark)\n",
    "            quicksort(rightmark + 1, right)\n",
    "    \n",
    "    left = 0\n",
    "    right = len(nums) - 1\n",
    "    quicksort(left,right)\n",
    "    return nums\n",
    "#Немного быдлокод, но я эту сортировку писал ещё в ~9 классе, поэтому можно простить"
   ]
  },
  {
   "cell_type": "code",
   "execution_count": 27,
   "metadata": {},
   "outputs": [
    {
     "data": {
      "image/png": "[encoded data removed]",
      "text/plain": [
       "<Figure size 432x288 with 1 Axes>"
      ]
     },
     "metadata": {
      "needs_background": "light"
     },
     "output_type": "display_data"
    }
   ],
   "source": [
    "N = 1000\n",
    "run_and_plot(myquicks, lambda n: [randint(-n, n) for _ in range(n)], 1, N, 20)\n",
    "run_and_plot(buble_sorting, lambda n: [randint(-n, n) for _ in range(n)], 1, N, 20)"
   ]
  },
  {
   "cell_type": "markdown",
   "metadata": {},
   "source": [
    "Разница в скорости работы алгоритмов поражает сознание. "
   ]
  },
  {
   "cell_type": "markdown",
   "metadata": {},
   "source": [
    "А давайте я ударю по самооценке и сравню свою быструю сортировку со встроенной питоновской?\n"
   ]
  },
  {
   "cell_type": "markdown",
   "metadata": {},
   "source": [
    "Казалось бы, какая универсальная сортировка может быть быстрее квиксорта?"
   ]
  },
  {
   "cell_type": "code",
   "execution_count": 30,
   "metadata": {},
   "outputs": [
    {
     "data": {
      "image/png": "[encoded data removed]",
      "text/plain": [
       "<Figure size 432x288 with 1 Axes>"
      ]
     },
     "metadata": {
      "needs_background": "light"
     },
     "output_type": "display_data"
    }
   ],
   "source": [
    "N = 1000\n",
    "run_and_plot(mysort, lambda n: [randint(-n, n) for _ in range(n)], 1, N, 20)\n",
    "run_and_plot(sorted, lambda n: [randint(-n, n) for _ in range(n)], 1, N, 20)"
   ]
  },
  {
   "cell_type": "markdown",
   "metadata": {},
   "source": [
    "Шок. Такие дела. Потому что сортировки встроенные в ЯП очень умные и используют довольно нетривиальные алгоритмы. Но об этом как-нибудь в другой раз...\n",
    "Но вот ссылка, кому любопытно - https://habr.com/ru/post/335920/"
   ]
  },
  {
   "cell_type": "markdown",
   "metadata": {},
   "source": [
    "Теперь вы должны быть достаточно подготовленной аудиторией, чтобы понять этот мем\n",
    "![meme](https://sun9-60.userapi.com/c858328/v858328991/98c61/GPCRS3MQOGg.jpg)"
   ]
  },
  {
   "cell_type": "markdown",
   "metadata": {},
   "source": [
    "Давайте ещё примеры:\n",
    "\n",
    "**Числа Фиббоначи.**\n",
    "Есть два способа их вычислять:\n",
    "\n",
    "1) Рекурсивно - это работает за $O(2^N)$\n",
    "\n",
    "2) С помощью [динамического программирования](https://en.wikipedia.org/wiki/Dynamic_programming) - $O(N)$\n",
    "\n",
    "3) *С помощью формулы рекуррентных соотношений - ~$O(1)$"
   ]
  },
  {
   "cell_type": "code",
   "execution_count": 31,
   "metadata": {},
   "outputs": [],
   "source": [
    "# Recurrent\n",
    "def fib_rec (n):\n",
    "    if n == 0:\n",
    "        return 0\n",
    "    elif n == 1:\n",
    "        return 1\n",
    "    else:\n",
    "        return fib_rec(n-1) + fib_rec(n-2)\n",
    "\n",
    "#DP\n",
    "def fib_dp(n):\n",
    "    n +=1\n",
    "    dp =[0] * (n + 1)\n",
    "    dp[0] = 1\n",
    "    dp[1] = 0\n",
    "    for i in range(2, n+1):\n",
    "        dp[i] = dp[i-1] + dp[i-2]\n",
    "    return dp[n]"
   ]
  },
  {
   "cell_type": "code",
   "execution_count": 34,
   "metadata": {},
   "outputs": [
    {
     "data": {
      "image/png": "[encoded data removed]",
      "text/plain": [
       "<Figure size 432x288 with 1 Axes>"
      ]
     },
     "metadata": {
      "needs_background": "light"
     },
     "output_type": "display_data"
    }
   ],
   "source": [
    "N = 35\n",
    "run_and_plot(fib_rec, lambda n : n, 1, N, 1)\n",
    "run_and_plot(fib_dp, lambda n : n, 1, N, 1)"
   ]
  },
  {
   "cell_type": "markdown",
   "metadata": {},
   "source": [
    "Подсчёт даже 35-ого числа Фибоначчи занимает 2,5 секунды! Сколько же времени уйдет, чтобы подсчитать, например, 1000-ое? \n",
    "\n",
    "*Спойлер* - тепловая смерть вселенной случится раньше "
   ]
  },
  {
   "cell_type": "code",
   "execution_count": 40,
   "metadata": {
    "scrolled": false
   },
   "outputs": [
    {
     "data": {
      "text/plain": [
       "10715086071862673209484250490600018105614048117055336074437503883703510511249361224931983788156958581275946729175531468251871452856923140435984577574698574803934567774824230985421074605062371141877954182153046474983581941267398767559165543946077062914571196477686542167660429831652624386837205668069376"
      ]
     },
     "execution_count": 40,
     "metadata": {},
     "output_type": "execute_result"
    }
   ],
   "source": [
    "#Примерно такое количество операций потребуется \n",
    "#на вычисление тысячного числа фибоначчи:\n",
    "2**1000"
   ]
  },
  {
   "cell_type": "markdown",
   "metadata": {},
   "source": [
    "Пусть у нас [ОЧЕНЬ мощный квантовый-супер-компьютер](https://en.wikipedia.org/wiki/Clock_rate) (Хотя на самом деле, когда нужно посчитать что-то ОЧЕНЬ большое, то это делают на видеокартах. Например майнят и обучают нейросети именно на них)вот какое количество **тысячелетий** займёт вычисление 1000-ого числа Фибоначчи рекурсивным алгоритмом:"
   ]
  },
  {
   "cell_type": "code",
   "execution_count": 49,
   "metadata": {},
   "outputs": [
    {
     "data": {
      "text/plain": [
       "3.397731504268986e+280"
      ]
     },
     "execution_count": 49,
     "metadata": {},
     "output_type": "execute_result"
    }
   ],
   "source": [
    "2**1000/10**10/60/60/24/365/1000"
   ]
  },
  {
   "cell_type": "markdown",
   "metadata": {},
   "source": [
    "'e+280' - это количество нулей, если что :) "
   ]
  },
  {
   "cell_type": "markdown",
   "metadata": {},
   "source": [
    "А вот с помощью дп мы это можем сделать мгновенно:"
   ]
  },
  {
   "cell_type": "code",
   "execution_count": 45,
   "metadata": {},
   "outputs": [
    {
     "data": {
      "text/plain": [
       "43466557686937456435688527675040625802564660517371780402481729089536555417949051890403879840079255169295922593080322634775209689623239873322471161642996440906533187938298969649928516003704476137795166849228875"
      ]
     },
     "execution_count": 45,
     "metadata": {},
     "output_type": "execute_result"
    }
   ],
   "source": [
    "fib_dp(1000)"
   ]
  },
  {
   "cell_type": "markdown",
   "metadata": {},
   "source": [
    "Ну в общем теперь все понимают, зачем нам асимптотика :)"
   ]
  },
  {
   "cell_type": "markdown",
   "metadata": {},
   "source": [
    "Ну вот теперь точно последний пример - **Бинпоиск**\n",
    "\n",
    "Задача: найти индекс элемента отсортированном массиве.\n",
    "\n",
    "1) Это можно сделать очевидным циклом - $O(N)$\n",
    "\n",
    "2) Бинпоиском - $O(\\log N)$"
   ]
  },
  {
   "cell_type": "code",
   "execution_count": 105,
   "metadata": {},
   "outputs": [],
   "source": [
    "def linear_search(a, x, n):\n",
    "    i = 0\n",
    "    while i < n and a[i] != x:\n",
    "        i += 1   \n",
    "    return i\n",
    "    \n",
    "def bin_search(a, x, n):\n",
    "    left = -1\n",
    "    right = n\n",
    "    while right - left > 1:\n",
    "        middle = (right + left) // 2\n",
    "        if a[middle] >= x:\n",
    "            right = middle\n",
    "        else:\n",
    "            left = middle\n",
    "    return right    "
   ]
  },
  {
   "cell_type": "code",
   "execution_count": 114,
   "metadata": {},
   "outputs": [],
   "source": [
    "#Перепишем немного функцию для замера скорости. \n",
    "#Теперь функция может принмать сразу несколько алгоритмов,\n",
    "#которые тестируются на одних и тех же тестах\n",
    "def run_and_plot_2(functions, generate_test, start, end, step):\n",
    "    timings = [[] for _ in range(len(functions))]\n",
    "    for i in range(start, end, step):\n",
    "        args = generate_test(i)\n",
    "        for j in range(len(functions)):\n",
    "            startt = time()\n",
    "            functions[j](*args)\n",
    "            endt = time()\n",
    "            timings[j].append(endt - startt)\n",
    "    for j in range(len(functions)):\n",
    "        plt.plot([i for i in range(start, end, step)], timings[j])"
   ]
  },
  {
   "cell_type": "code",
   "execution_count": 117,
   "metadata": {},
   "outputs": [
    {
     "data": {
      "image/png": "[encoded data removed]",
      "text/plain": [
       "<Figure size 432x288 with 1 Axes>"
      ]
     },
     "metadata": {
      "needs_background": "light"
     },
     "output_type": "display_data"
    }
   ],
   "source": [
    "def generate_test_search(n):\n",
    "    a = [randint(-n*100, n*100) for _ in range(n)]\n",
    "    a.sort()\n",
    "    x = a[randint(0, n-1)]\n",
    "    return a, x, n\n",
    "\n",
    "run_and_plot_2([linear_search, bin_search], generate_test_search, 1, 10000, 10)"
   ]
  },
  {
   "cell_type": "markdown",
   "metadata": {},
   "source": [
    "Тут тяжело разглядеть разницу, так как очевидно, что первый алгоритм работает за $O(N)$ лишь в худшем случае - только когда искомый элемент стоит последнем. Тогда как бинпоиск **всегда** работает за $O(\\log N)$. Поэтому на графике мы видим гладкую оранжевую прямую и очень нестабильную линию. \n",
    "\n",
    "Здесь мы видим ситуацию, когда асимптотическая работа одного алгоритма постоянна, а у другого встречается редко.\n",
    "\n",
    "Например, у нас на выбор есть два алгоритма:\n",
    "\n",
    "1) Работает за $O(N^2)$ в худшем случае, но в среднем работает за $O(N)$.\n",
    "\n",
    "2) Всегда работает за $O(N \\log N)$\n",
    "\n",
    "(Можете посмотреть на график снизу, чтобы осознать разницу)"
   ]
  },
  {
   "cell_type": "markdown",
   "metadata": {},
   "source": [
    "![graph](https://upload.wikimedia.org/wikipedia/commons/thumb/7/7e/Comparison_computational_complexity.svg/1024px-Comparison_computational_complexity.svg.png)"
   ]
  },
  {
   "cell_type": "markdown",
   "metadata": {},
   "source": [
    "Как же нам быть в такой ситуации? И как правильно различать такие случаи?\n",
    "\n",
    "Для это существуют разные О-нотации:"
   ]
  },
  {
   "cell_type": "markdown",
   "metadata": {},
   "source": [
    "**В О-нотации есть несколько разных обозначений:**\n",
    "# $$\\mathcal{0}, o, \\Omega, \\omega, \\Theta$$"
   ]
  },
  {
   "cell_type": "markdown",
   "metadata": {},
   "source": [
    "$f(n) = \\mathcal{0}(g(n))$ means $c * g(n)$ is an upper bound on $f(n)$. Thus there exists some constant c such that $f(n)$ is always $<= c * g(n)$, for large enough $n$ (i.e., $n >= n0$  for some constant $n0$).\n",
    "\n",
    "$f(n) = \\Omega(g(n))$  means $c * g(n)$ is a lower bound on $f(n)$. Thus there exists some constant c such that $f(n)$ is always $>= c * g(n)$, for all $n >= n0$.\n",
    "\n",
    "$f(n) = \\Theta(g(n))$ means $c1 * g(n)$ is an upper bound on $f(n)$ and $c2 * g(n)$ is a lower bound on $f(n)$, for all $n >= n0$. Thus there exist constants $c1$ and $c2$ such that $f(n) <= c1 * g(n)$ and $f(n) >= c2 * g(n)$. This means that $g(n)$ provides a nice, tight bound on $f(n)$."
   ]
  },
  {
   "cell_type": "markdown",
   "metadata": {},
   "source": [
    "$\\Theta$ **denotes an asymptotically tight upper and lower bound.**\n",
    "\n",
    "$\\mathcal{0}$ **denotes an upper bound, but this bound might or might not be tight.**\n",
    "\n",
    "$o$ **denotes an upper bound that is not tight.**\n",
    "\n",
    "$\\Omega$ **denotes a lower bound, but this bound might or might not be tight.**\n",
    "\n",
    "$\\omega$ **denotes a lower bound that is not tight.**"
   ]
  },
  {
   "cell_type": "markdown",
   "metadata": {},
   "source": [
    "Мне лень всё это рассписывать и техать, поэтому вот вам ссылка https://en.wikipedia.org/wiki/Big_O_notation, там всё подробно написанно.\n",
    "Настоятельно рекомендую это всё изучить. Уметь различать эти нотации очень важно."
   ]
  },
  {
   "cell_type": "markdown",
   "metadata": {},
   "source": [
    "## 3 Скорость процессора\n",
    "\n",
    "Как посчитать количество операций мы теперь знаем. А как оценить время? Сколько операций компьютер успевает совершать, например, за 1 секунду?\n",
    "\n",
    "Вообще, ответ на этот вопрос зависит от многих факторов:\n",
    "\n",
    "1) Производительность компьютера\n",
    "\n",
    "2) Язык программирования\n",
    "\n",
    "3) *Вычисления ещё можно и распараллеливать, и считать сразу несколько операций одновременно. \n",
    "\n",
    "4) и т.д.\n",
    "\n",
    "Но нам всё-таки нужна хоть какая-то оценка. \n",
    "\n",
    "Здесь я не буду вдаваться в мир железа\n",
    "Каждый процессор имеет такую характеристику, как GHz (ГГц) - это частота. А частота - это обратное к времени.\n",
    "\n",
    "**Это значит, что зная количество ГГц, мы можем измерить количество операций, которое процессор (CPU) может произвести за одну секунду.**\n",
    "\n",
    "\n",
    "Например, представьте, что процессор имеет скорость в 1.8GHz тогда это значит, что он может произвести 1,800,000,000 операций за одну секунду."
   ]
  },
  {
   "cell_type": "markdown",
   "metadata": {},
   "source": [
    "Однако стоит понимать, что это не значит, что он может произвести в точности $18*10^8$ операций. Разные операции занимают разное количество времени, поэтому это значение так же зависит от большого количества факторов"
   ]
  },
  {
   "cell_type": "code",
   "execution_count": 7,
   "metadata": {
    "scrolled": true
   },
   "outputs": [
    {
     "name": "stdout",
     "output_type": "stream",
     "text": [
      "5336637 операций успел совершить компьютер за ~1 секунду\n"
     ]
    }
   ],
   "source": [
    "from time import time\n",
    "start = time()\n",
    "count = 0\n",
    "while time() - start < 1:\n",
    "    count += 1\n",
    "print('{} операций успел совершить компьютер за ~1 секунду'.format(count))"
   ]
  },
  {
   "cell_type": "markdown",
   "metadata": {},
   "source": [
    "Что это такое? Почему так мало? Но нужно учитывать, что здесь совершенно значительно больше операций, ведь мы ещё и считаем время. \n",
    "\n",
    "На самом деле это был не очень профессиональный метод измерения скорости. Вот тут уже более качественный опыт:"
   ]
  },
  {
   "cell_type": "code",
   "execution_count": 12,
   "metadata": {},
   "outputs": [
    {
     "name": "stdout",
     "output_type": "stream",
     "text": [
      "CPU times: user 205 ms, sys: 16 ms, total: 221 ms\n",
      "Wall time: 222 ms\n"
     ]
    }
   ],
   "source": [
    "%time a = [1 for i in range(count)]"
   ]
  },
  {
   "cell_type": "markdown",
   "metadata": {},
   "source": [
    "Здесь мы совершили такое же количество операций в 5 раз быстрее."
   ]
  },
  {
   "cell_type": "markdown",
   "metadata": {},
   "source": [
    "Вот, например, очень полезная табличка по времени выполнения различных операции на C++\n",
    "\n",
    "![cpuinfo](http://ithare.com/wp-content/uploads/part101_infographics_v07.png)"
   ]
  },
  {
   "cell_type": "code",
   "execution_count": 13,
   "metadata": {
    "scrolled": true
   },
   "outputs": [
    {
     "name": "stdout",
     "output_type": "stream",
     "text": [
      "18.8 µs ± 1.42 µs per loop (mean ± std. dev. of 7 runs, 100000 loops each)\n",
      "3.15 ms ± 52.6 µs per loop (mean ± std. dev. of 7 runs, 100 loops each)\n"
     ]
    }
   ],
   "source": [
    "#Вот ещё приколюха. \n",
    "import numpy as np # классический import\n",
    "\n",
    "%timeit np.arange(10000)**2\n",
    "\n",
    "%timeit [i**2 for i in range(10000)]"
   ]
  },
  {
   "cell_type": "markdown",
   "metadata": {},
   "source": [
    "Та же самая задача - возвести 10000 последовательных натуральных чисел в квадрат, посчиталась в нампаевском массиве значительно быстрее. Почему? Потому что нампаевский массив очень сильно отличается от питоновского списка. Более того, он написан на плюсах. Да-да. Когда вы импортируете numpy, вы ещё вместе с ним импортируете плюсовский компилятор. Поэтому, когда над нампаевскими массивами совершаются операции, то он буквально относит значения в C++, там всё считает, а после возвращает вам результат. Такие дела. "
   ]
  },
  {
   "cell_type": "markdown",
   "metadata": {},
   "source": [
    "### Источники и полезная информация:\n",
    "    \n",
    "1) https://wiki.algocode.ru/index.php?title=O-нотация_light_version\n",
    "\n",
    "2) https://en.wikipedia.org/wiki/Hertz\n",
    "\n",
    "3) http://ithare.com/infographics-operation-costs-in-cpu-clock-cycles/\n",
    "\n",
    "4) https://en.wikipedia.org/wiki/Big_O_notation\n",
    "\n",
    "5) http://wiki.cs.hse.ru/Алгоритмы_и_структуры_данных_1_основной_поток_2019/202\n",
    "\n",
    "6) https://stackoverflow.com/questions/1960424/what-is-the-difference-between-o-Ω-and-Θ\n",
    "\n",
    "7) https://stackoverflow.com/questions/1364444/difference-between-big-o-and-little-o-notation"
   ]
  }
 ],
 "metadata": {
  "kernelspec": {
   "display_name": "Python 3",
   "language": "python",
   "name": "python3"
  },
  "language_info": {
   "codemirror_mode": {
    "name": "ipython",
    "version": 3
   },
   "file_extension": ".py",
   "mimetype": "text/x-python",
   "name": "python",
   "nbconvert_exporter": "python",
   "pygments_lexer": "ipython3",
   "version": "3.6.8"
  }
 },
 "nbformat": 4,
 "nbformat_minor": 2
}
